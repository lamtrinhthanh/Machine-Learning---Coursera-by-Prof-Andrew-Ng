{
 "cells": [
  {
   "cell_type": "markdown",
   "metadata": {},
   "source": [
    "# Multi-class Classification and Neural Networks\n"
   ]
  },
  {
   "cell_type": "markdown",
   "metadata": {},
   "source": [
    "In this practice, we are going to implement multi-class classification (one-vs-all method) using logistic regression & neural networks to recognize handwritten digits."
   ]
  },
  {
   "cell_type": "code",
   "execution_count": 4,
   "metadata": {},
   "outputs": [],
   "source": [
    "#for directory paths manipulation\n",
    "import os\n",
    "#for array and matrix operaions\n",
    "import numpy as np\n",
    "#for plotting\n",
    "from matplotlib import pyplot as plt\n",
    "#numerical computation - optimization module\n",
    "import scipy.optimize\n",
    "#load matlab file format\n",
    "from scipy.io import loadmat\n",
    "import utils"
   ]
  },
  {
   "cell_type": "markdown",
   "metadata": {},
   "source": [
    "# Part 1: Multi-class Classification"
   ]
  },
  {
   "cell_type": "markdown",
   "metadata": {},
   "source": [
    "For this exercise, we will use logistic regression and neural networks to recognize handwritten digits (from 0 to 9). Automated handwritten digit recognition is widely used today - from recognizing zip codes (postal codes) on mail envelopes to recognizing amounts written on bank checks. This exercise will show we how the methods we have learned can be used for this classification task.\n",
    "\n",
    "In the first part of the exercise, we will extend our previous implementation of logistic regression and apply it to one-vs-all classification."
   ]
  },
  {
   "cell_type": "markdown",
   "metadata": {},
   "source": [
    "### 1.1 Dataset "
   ]
  },
  {
   "cell_type": "markdown",
   "metadata": {},
   "source": [
    "We have a dataset of 5000 training examples of handwritten digits (This is a subset of the MNIST handwritten digit dataset), where each training example is a 20 pixel by 20 pixel grayscale image of the digit. Each pixel is represented by a floating point number indicating the grayscale intensity at that location.\n",
    "\n",
    "The 20 by 20 grid of pixels is “unrolled” into a 400-dimensional vector. Each of these training examples becomes a single row in our data matrix X. This gives us a 5000 by 400 matrix X where every row is a training example for a handwritten digit image.\n",
    "\n",
    "The second part of the training set is a 5000-dimensional vector y that contains labels for the training set. We start the exercise by first loading the dataset."
   ]
  },
  {
   "cell_type": "code",
   "execution_count": 12,
   "metadata": {},
   "outputs": [
    {
     "name": "stdout",
     "output_type": "stream",
     "text": [
      "object type loaded matlab file: <class 'dict'>\n",
      "Keys: dict_keys(['__header__', '__version__', '__globals__', 'X', 'y'])\n",
      "Digit Labels: 1 2 3 4 5 6 7 8 9 10\n",
      "Dimension of X set:  (5000, 401)\n",
      "Dimension of Y set:  (5000,)\n"
     ]
    }
   ],
   "source": [
    "#load matlab data file\n",
    "data = loadmat(r'Data/ex3data1.mat')\n",
    "print('object type loaded matlab file:', type(data))\n",
    "print('Keys:', data.keys())\n",
    "\n",
    "#load X,Y sets\n",
    "raw_X = data['X']\n",
    "raw_y = data['y'].flatten()\n",
    "\n",
    "#add intercept or bias of 1 to X set\n",
    "X = np.concatenate([np.ones((raw_X.shape[0], 1)), raw_X], axis=1)\n",
    "\n",
    "#explore the labels in dataset\n",
    "print('Digit Labels:', *np.unique(raw_y))\n",
    "#we see that we have label class 10 as in matplab the index starts from 1\n",
    "#not like in Python from 0.So in this case, we gonna set label 10 = 0\n",
    "y = np.where(raw_y==10, 0, raw_y)\n",
    "\n",
    "print('Dimension of X set: ', X.shape)\n",
    "print('Dimension of Y set: ', y.shape)"
   ]
  },
  {
   "cell_type": "code",
   "execution_count": 13,
   "metadata": {},
   "outputs": [
    {
     "name": "stdout",
     "output_type": "stream",
     "text": [
      "Keys: dict_keys(['__header__', '__version__', '__globals__', 'Theta1', 'Theta2'])\n",
      "theta1: (25, 401)\n",
      "theta2: (10, 26)\n"
     ]
    }
   ],
   "source": [
    "#load matlab theta file\n",
    "weights = loadmat(r'Data/ex3weights.mat')\n",
    "print('Keys:', weights.keys())\n",
    "theta1 = weights['Theta1']\n",
    "theta2 = weights['Theta2']\n",
    "print('theta1:', theta1.shape)\n",
    "print('theta2:', theta2.shape)"
   ]
  },
  {
   "cell_type": "code",
   "execution_count": 14,
   "metadata": {},
   "outputs": [],
   "source": [
    "#number of training exampls\n",
    "m = y.size\n",
    "#nunber of features including intercept\n",
    "n = X.shape[1]"
   ]
  },
  {
   "cell_type": "markdown",
   "metadata": {},
   "source": [
    "### 1.2 Visualizing dataset"
   ]
  },
  {
   "cell_type": "markdown",
   "metadata": {},
   "source": [
    "Next, we are randomly visualizing 100 handwirtten digits from our dataset"
   ]
  },
  {
   "cell_type": "code",
   "execution_count": 15,
   "metadata": {},
   "outputs": [
    {
     "data": {
      "text/plain": [
       "(-0.5, 399.5, 19.5, -0.5)"
      ]
     },
     "execution_count": 15,
     "metadata": {},
     "output_type": "execute_result"
    },
    {
     "data": {
      "image/png": "[encoded data removed]",
      "text/plain": [
       "<Figure size 720x720 with 1 Axes>"
      ]
     },
     "metadata": {
      "needs_background": "light"
     },
     "output_type": "display_data"
    }
   ],
   "source": [
    "#simple way\n",
    "sample = np.random.choice(X.shape[0], size=20)\n",
    "plt.figure(figsize=(10, 10))\n",
    "plt.imshow(X[sample, 1:].reshape(-1, 20).T)\n",
    "plt.axis('off')"
   ]
  },
  {
   "cell_type": "code",
   "execution_count": 16,
   "metadata": {},
   "outputs": [],
   "source": [
    "#create a function to visualize 1- to 2-dimensional array\n",
    "def displayData(X, figsize=(10, 10)):\n",
    "    '''\n",
    "    function to plot 2D data in X in a nice grid\n",
    "    '''\n",
    "    if X.ndim == 2:\n",
    "        m, n = X.shape\n",
    "    elif X.ndim == 1:\n",
    "        n = X.size\n",
    "        m = 1\n",
    "        #promote 1d X to 2d\n",
    "        X = X[None]\n",
    "    else:\n",
    "        raise IndexError('X must be of 1-2d')\n",
    "    \n",
    "    nrows = int(np.floor(np.sqrt(m)))\n",
    "    ncols = int(np.ceil(m / nrows))\n",
    "\n",
    "    fig, ax = plt.subplots(nrows=nrows, ncols=ncols, figsize=figsize)\n",
    "    ax = ax if m == 1 else ax.ravel()\n",
    "    #print out the digit image in the grid\n",
    "    for i, ax_array in enumerate(ax):\n",
    "        if i < m:\n",
    "            ax_array.imshow(X[i, 1:].reshape((20, -1), order='F'), cmap='Greys')\n",
    "        else:\n",
    "            pass\n",
    "        ax_array.axis('off')\n"
   ]
  },
  {
   "cell_type": "code",
   "execution_count": 17,
   "metadata": {},
   "outputs": [
    {
     "data": {
      "image/png": "[encoded data removed]",
      "text/plain": [
       "<Figure size 720x720 with 56 Axes>"
      ]
     },
     "metadata": {
      "needs_background": "light"
     },
     "output_type": "display_data"
    }
   ],
   "source": [
    "rand_indices = np.random.choice(m, size=50)\n",
    "displayData(X[rand_indices, :])"
   ]
  },
  {
   "cell_type": "markdown",
   "metadata": {},
   "source": [
    "### 1.3 Vectorizing Logistic Regression"
   ]
  },
  {
   "cell_type": "markdown",
   "metadata": {},
   "source": [
    "We will be using multiple one-vs-all logistic regression models to build a multi-class classifier. As can been seen from dataset, 10 classes require use to train the logistic regression classifiers for all of them, therefore we need to perform vectorization for this task"
   ]
  },
  {
   "cell_type": "code",
   "execution_count": 18,
   "metadata": {},
   "outputs": [],
   "source": [
    "#vectorize logistic regression\n",
    "def sigmoid(z):\n",
    "    return 1 / (1 + np.exp(-z))"
   ]
  },
  {
   "cell_type": "markdown",
   "metadata": {},
   "source": [
    "Vectorized cost function:\n",
    "\n",
    "$$ J(\\theta) = \\frac{1}{m} \\sum_{i=1}^m \\left[ -y^{(i)} \\log \\left( h_\\theta\\left( x^{(i)} \\right) \\right) - \\left(1 - y^{(i)} \n",
    "\\right) \\log \\left(1 - h_\\theta \\left( x^{(i)} \\right) \\right) \\right] $$\n",
    "\n",
    "Vectorized cost function with regularization\n",
    "\n",
    "$$ \\frac{\\partial J }{\\partial \\theta_j} = \\frac{1}{m} \\sum_{i=1}^m \\left( \\left( h_\\theta\\left(x^{(i)}\\right) - y^{(i)} \\right)x_j^{(i)} \\right) $$\n",
    "\n",
    "\n",
    "Vectorized gradient:\n",
    "\n",
    "$$ \\frac{\\partial J }{\\partial \\theta_j} = \\frac{1}{m} \\sum_{i=1}^m \\left( \\left( h_\\theta\\left(x^{(i)}\\right) - y^{(i)} \\right)x_j^{(i)} \\right) $$\n",
    "\n",
    "Vectorized gradient with regularization:\n",
    "\n",
    "$$\n",
    "\\begin{align*}\n",
    "& \\frac{\\partial J(\\theta)}{\\partial \\theta_0} = \\frac{1}{m} \\sum_{i=1}^m \\left( h_\\theta\\left( x^{(i)} \\right) - y^{(i)} \\right) x_j^{(i)}  & \\text{for } j = 0 \\\\\n",
    "& \\frac{\\partial J(\\theta)}{\\partial \\theta_0} = \\left( \\frac{1}{m} \\sum_{i=1}^m \\left( h_\\theta\\left( x^{(i)} \\right) - y^{(i)} \\right) x_j^{(i)} \\right) + \\frac{\\lambda}{m} \\theta_j & \\text{for } j  \\ge 1\n",
    "\\end{align*}\n",
    "$$"
   ]
  },
  {
   "cell_type": "code",
   "execution_count": 19,
   "metadata": {},
   "outputs": [],
   "source": [
    "#regularized cost function in the vectorized way\n",
    "def lrCostFunction(theta, X, y, lambda_):\n",
    "    \n",
    "    #Initialize some useful values\n",
    "    m = y.size\n",
    "    \n",
    "    # convert labels to ints if their type is bool\n",
    "    if y.dtype == bool:\n",
    "        y = y.astype(int)\n",
    "    \n",
    "    # You need to return the following variables correctly\n",
    "    J = 0\n",
    "    grad = np.zeros(theta.shape)\n",
    "    h = sigmoid(X @ theta)\n",
    "    \n",
    "\n",
    "    J = np.squeeze(-1 / m * (np.log(h).T @ y + np.log(1 - h).T @ (1 - y)) + (lambda_ / (2 * m)) * (theta[1:].T @ theta[1:]))\n",
    "    grad = np.squeeze(1 / m * (h - y).T @ X + (lambda_ / m) * np.r_[[0], theta[1:]].reshape((1, -1)))\n",
    "    \n",
    "    if np.isnan(J):\n",
    "        return np.inf, grad\n",
    "\n",
    "    return J, grad"
   ]
  },
  {
   "cell_type": "code",
   "execution_count": 20,
   "metadata": {},
   "outputs": [
    {
     "name": "stdout",
     "output_type": "stream",
     "text": [
      "Cost         : 2.534819\n",
      "Expected cost: 2.534819\n",
      "-----------------------\n",
      "Gradients:\n",
      " [0.146561, -0.548558, 0.724722, 1.398003]\n",
      "Expected gradients:\n",
      " [0.146561, -0.548558, 0.724722, 1.398003]\n"
     ]
    }
   ],
   "source": [
    "#test functions\n",
    "# test values for the parameters theta\n",
    "theta_t = np.array([-2, -1, 1, 2], dtype=float)\n",
    "\n",
    "# test values for the inputs\n",
    "X_t = np.concatenate([np.ones((5, 1)), np.arange(1, 16).reshape(5, 3, order='F')/10.0], axis=1)\n",
    "\n",
    "# test values for the labels\n",
    "y_t = np.array([1, 0, 1, 0, 1])\n",
    "\n",
    "# test value for the regularization parameter\n",
    "lambda_t = 3\n",
    "J, grad = lrCostFunction(theta_t, X_t, y_t, lambda_t)\n",
    "\n",
    "print('Cost         : {:.6f}'.format(J))\n",
    "print('Expected cost: 2.534819')\n",
    "print('-----------------------')\n",
    "print('Gradients:')\n",
    "print(' [{:.6f}, {:.6f}, {:.6f}, {:.6f}]'.format(*grad))\n",
    "print('Expected gradients:')\n",
    "print(' [0.146561, -0.548558, 0.724722, 1.398003]');"
   ]
  },
  {
   "cell_type": "markdown",
   "metadata": {},
   "source": [
    "### 1.4 One-vs-all Classification\n"
   ]
  },
  {
   "cell_type": "markdown",
   "metadata": {},
   "source": [
    "In this part, we will implement one-vs-all classification by training 10 classifiers over each of the 10 class labels."
   ]
  },
  {
   "cell_type": "code",
   "execution_count": 84,
   "metadata": {},
   "outputs": [],
   "source": [
    "def oneVsAll(X, y, num_labels, lambda_):\n",
    "    \"\"\"\n",
    "    Trains num_labels logistic regression classifiers and returns\n",
    "    each of these classifiers in a matrix all_theta, where the i-th\n",
    "    row of all_theta corresponds to the classifier for label i.\n",
    "    \n",
    "    Parameters\n",
    "    ----------\n",
    "    X : array_like\n",
    "        The input dataset of shape (m x n). m is the number of \n",
    "        data points, and n is the number of features. Note that we \n",
    "        do not assume that the intercept term (or bias) is in X, however\n",
    "        we provide the code below to add the bias term to X. \n",
    "    \n",
    "    y : array_like\n",
    "        The data labels. A vector of shape (m, ).\n",
    "    \n",
    "    num_labels : int\n",
    "        Number of possible labels.\n",
    "    \n",
    "    lambda_ : float\n",
    "        The logistic regularization parameter.\n",
    "    \n",
    "    Returns\n",
    "    -------\n",
    "    all_theta : array_like\n",
    "        The trained parameters for logistic regression for each class.\n",
    "        This is a matrix of shape (K x n+1) where K is number of classes\n",
    "        (ie. `numlabels`) and n is number of features without the bias.\n",
    "    \"\"\"\n",
    "    #get number  training examples and features\n",
    "    m, n = X.shape\n",
    "    #initialize trained parameters with zeros\n",
    "    initial_theta = np.zeros((num_labels, n))\n",
    "    \n",
    "    #start training the classifier using scipy.optimize.minimize\n",
    "    for i, theta in enumerate(initial_theta):\n",
    "        minimizer = scipy.optimize.minimize(lrCostFunction, theta, (X, (y==i), lambda_), \\\n",
    "                                            method='TNC', jac=True, options={'maxiter':50})\n",
    "        \n",
    "        initial_theta[i, :] = minimizer.x\n",
    "\n",
    "    return initial_theta\n",
    "    "
   ]
  },
  {
   "cell_type": "code",
   "execution_count": 85,
   "metadata": {},
   "outputs": [],
   "source": [
    "#test function\n",
    "\n",
    "num_labels = 10\n",
    "lambda_ = 0.01\n",
    "all_theta = oneVsAll(X, y, num_labels, lambda_)"
   ]
  },
  {
   "cell_type": "markdown",
   "metadata": {},
   "source": [
    "#### 1.4.1 One-vs-all Prediction\n"
   ]
  },
  {
   "cell_type": "code",
   "execution_count": 86,
   "metadata": {},
   "outputs": [],
   "source": [
    "def predictOneVsAll(all_theta, X):\n",
    "    \"\"\"\n",
    "    Return a vector of predictions for each example in the matrix X. \n",
    "    Note that X contains the examples in rows. all_theta is a matrix where\n",
    "    the i-th row is a trained logistic regression theta vector for the \n",
    "    i-th class. You should set p to a vector of values from 0..K-1 \n",
    "    (e.g., p = [0, 2, 0, 1] predicts classes 0, 2, 0, 1 for 4 examples) .\n",
    "    \n",
    "    Parameters\n",
    "    ----------\n",
    "    all_theta : array_like\n",
    "        The trained parameters for logistic regression for each class.\n",
    "        This is a matrix of shape (K x n+1) where K is number of classes\n",
    "        and n is number of features without the bias.\n",
    "    \n",
    "    X : array_like\n",
    "        Data points to predict their labels. This is a matrix of shape \n",
    "        (m x n) where m is number of data points to predict, and n is number \n",
    "        of features without the bias term. Note we add the bias term for X in \n",
    "        this function. \n",
    "    \n",
    "    Returns\n",
    "    -------\n",
    "    p : array_like\n",
    "        The predictions for each data point in X. This is a vector of shape (m, ).\n",
    "    \"\"\"\n",
    "    \n",
    "    m, n = X.shape\n",
    "    \n",
    "    num_lables = all_theta.shape[0]\n",
    "    \n",
    "    p = np.zeros(m)\n",
    "    \n",
    "    #hypothesis outputs or probabilities from 10 trained classifers for 10 class labels\n",
    "    h = np.dot(X, all_theta.T)\n",
    "    #preidctions for classes that each example belongs to\n",
    "    p = np.argmax(h, axis=1, out=None)\n",
    "    \n",
    "    return p"
   ]
  },
  {
   "cell_type": "code",
   "execution_count": 87,
   "metadata": {},
   "outputs": [
    {
     "name": "stdout",
     "output_type": "stream",
     "text": [
      "Training accuracy: 95.66%\n"
     ]
    }
   ],
   "source": [
    "pred = predictOneVsAll(all_theta, X)\n",
    "print('Training accuracy: {:.2f}%'.format(np.mean(pred==y) * 100))"
   ]
  },
  {
   "cell_type": "markdown",
   "metadata": {},
   "source": [
    "Implementation of sklean.logistic regression for one-vs-all classificaion"
   ]
  },
  {
   "cell_type": "code",
   "execution_count": 105,
   "metadata": {},
   "outputs": [
    {
     "name": "stdout",
     "output_type": "stream",
     "text": [
      "accuracy for training 98.82%\n"
     ]
    }
   ],
   "source": [
    "from sklearn.linear_model import LogisticRegression\n",
    "from sklearn.metrics import accuracy_score\n",
    "\n",
    "logreg = LogisticRegression(C=10, penalty='l2', max_iter=100, solver='newton-cg')\n",
    "logreg.fit(X[:, 1:], y)\n",
    "pred = logreg.predict(X[:, 1:])\n",
    "print(r'accuracy for training %.2f%%'%(accuracy_score(y, pred)*100))"
   ]
  },
  {
   "cell_type": "markdown",
   "metadata": {},
   "source": [
    "## 2 Neural Networks\n"
   ]
  },
  {
   "cell_type": "markdown",
   "metadata": {},
   "source": [
    "After logistic regression, we would proceed with neural networks. This is due to the fact that Logistic Regression is unable to create complex classifers for complicated tasks. Obviously, we could make the hypothesis more complex by adding more polynomial terms but it would be very expensive and time-taking for training."
   ]
  },
  {
   "cell_type": "code",
   "execution_count": 200,
   "metadata": {},
   "outputs": [
    {
     "data": {
      "image/png": "[encoded data removed]",
      "text/plain": [
       "<Figure size 216x216 with 1 Axes>"
      ]
     },
     "metadata": {
      "needs_background": "light"
     },
     "output_type": "display_data"
    }
   ],
   "source": [
    "#reload datasets like from the beginning\n",
    "data = loadmat(os.path.join('Data', 'ex3data1.mat'))\n",
    "X, y = data['X'], data['y'].flatten()\n",
    "y[y==10] = 0\n",
    "\n",
    "#number of examples\n",
    "m = y.size\n",
    "\n",
    "#randomly permutate examples in oder to visualize them once a time\n",
    "#X = np.random.permutation(X)\n",
    "\n",
    "def visualizeData(X):\n",
    "    \n",
    "    if X.ndim == 1:\n",
    "        m = 1\n",
    "        n = X.size\n",
    "        X = X[None]\n",
    "    elif X.ndim == 2:\n",
    "        m, n = X.shape\n",
    "    else:\n",
    "        raise TypeError('X must be of dimension 1 and 2 only')\n",
    "    fig, ax = plt.subplots(nrows=int(np.ceil(m / 10)), ncols=int(np.ceil(m / np.ceil(m / 10))), figsize=(3, 3))\n",
    "    ax = [ax] if m == 1 else ax.flatten()\n",
    "    \n",
    "    for i, ax_ in enumerate(ax):\n",
    "        if i < m:\n",
    "            ax_.imshow(X[i, :].reshape((20, -1), order='F'), cmap='Greys')\n",
    "            ax_.axis('off')\n",
    "        else:\n",
    "            break\n",
    "\n",
    "    plt.show()\n",
    "    \n",
    "visualizeData(X[1, :])"
   ]
  },
  {
   "cell_type": "markdown",
   "metadata": {},
   "source": [
    "### 2.1 Model Representaiton"
   ]
  },
  {
   "cell_type": "markdown",
   "metadata": {},
   "source": [
    "Our neural network is shown in the following figure.\n",
    "\n",
    "\n",
    "![Neural network](Exercise3/Figures/neuralnetwork.png)\n",
    "\n",
    "It has 3 layers: an input layer, a hidden layer and an output layer. Recall that our inputs are pixel values of digit images. Since the images are of size 20×20, this gives us 400 input layer units (excluding the extra bias unit which always outputs +1). As before, the training data will be loaded into the variables X and y. "
   ]
  },
  {
   "cell_type": "code",
   "execution_count": 201,
   "metadata": {},
   "outputs": [
    {
     "name": "stdout",
     "output_type": "stream",
     "text": [
      "dict_keys(['__header__', '__version__', '__globals__', 'Theta1', 'Theta2'])\n",
      "(25, 401)\n",
      "(10, 26)\n"
     ]
    }
   ],
   "source": [
    "#set constant parameters\n",
    "INPUT_LAYER_SIZE = 400\n",
    "HIDDEN_LAYER_SIZE = 25\n",
    "OUTPUT_LAYER_SIZE = 10 #corresponds to 10 label classes\n",
    "\n",
    "#load trained parameters from matlab file\n",
    "weights = loadmat('Data/ex3weights.mat')\n",
    "print(weights.keys())\n",
    "\n",
    "#respecitviely load theta1 and theta\n",
    "theta1 = weights['Theta1']\n",
    "theta2 = np.roll(weights['Theta2'], shift=1, axis=0)\n",
    "\n",
    "print(theta1.shape)\n",
    "print(theta2.shape)"
   ]
  },
  {
   "cell_type": "markdown",
   "metadata": {},
   "source": [
    "### 2.2 Feedforward Propagation and Prediction"
   ]
  },
  {
   "cell_type": "code",
   "execution_count": 203,
   "metadata": {},
   "outputs": [],
   "source": [
    "def predict(Theta1, Theta2, X):\n",
    "    \"\"\"\n",
    "    Predict the label of an input given a trained neural network.\n",
    "    \n",
    "    Parameters\n",
    "    ----------\n",
    "    Theta1 : array_like\n",
    "        Weights for the first layer in the neural network.\n",
    "        It has shape (2nd hidden layer size x input size)\n",
    "    \n",
    "    Theta2: array_like\n",
    "        Weights for the second layer in the neural network. \n",
    "        It has shape (output layer size x 2nd hidden layer size)\n",
    "    \n",
    "    X : array_like\n",
    "        The image inputs having shape (number of examples x image dimensions).\n",
    "    \n",
    "    Return \n",
    "    ------\n",
    "    p : array_like\n",
    "        Predictions vector containing the predicted label for each example.\n",
    "        It has a length equal to the number of examples.\n",
    "        # Make sure the input has two dimensions\n",
    "    \"\"\"\n",
    "    if X.ndim == 1:\n",
    "        X = X[None]  # promote to 2-dimensions\n",
    "    \n",
    "    # useful variables\n",
    "    m = X.shape[0]\n",
    "    num_labels = Theta2.shape[0]\n",
    "\n",
    "    # You need to return the following variables correctly \n",
    "    p = np.zeros(X.shape[0])\n",
    "\n",
    "    # ====================== YOUR CODE HERE ======================\n",
    "    #add bias term to X\n",
    "    if X.shape[1] != Theta1.shape[1]:\n",
    "        X = np.concatenate([np.ones((m, 1)), X], axis=1)\n",
    "    #calculate the activations of neurons or units in the first and only hidden layer\n",
    "    z2 = X @ Theta1.T\n",
    "    a2 = sigmoid(z2)\n",
    "    \n",
    "    #calculate the activations of output units in the output layer\n",
    "    #add intercept to activations of neurons in the hidden layer\n",
    "    a2 = np.hstack([np.ones((a2.shape[0], 1)), a2])\n",
    "    z3 = a2.dot(Theta2.T)\n",
    "    a3 = sigmoid(z3)\n",
    "    \n",
    "    #predicted labels\n",
    "    p = np.argmax(a3, axis=1)\n",
    "    # =============================================================\n",
    "    return p"
   ]
  },
  {
   "cell_type": "code",
   "execution_count": null,
   "metadata": {},
   "outputs": [],
   "source": []
  },
  {
   "cell_type": "code",
   "execution_count": 204,
   "metadata": {},
   "outputs": [
    {
     "name": "stdout",
     "output_type": "stream",
     "text": [
      "Training accuracy using neural networks: 97.52%\n"
     ]
    }
   ],
   "source": [
    "#test result\n",
    "pred = predict(theta1, theta2, X)\n",
    "print('Training accuracy using neural networks: %.2f%%'%(np.mean(pred==y)*100))"
   ]
  },
  {
   "cell_type": "code",
   "execution_count": null,
   "metadata": {},
   "outputs": [],
   "source": []
  }
 ],
 "metadata": {
  "kernelspec": {
   "display_name": "Python 3",
   "language": "python",
   "name": "python3"
  },
  "language_info": {
   "codemirror_mode": {
    "name": "ipython",
    "version": 3
   },
   "file_extension": ".py",
   "mimetype": "text/x-python",
   "name": "python",
   "nbconvert_exporter": "python",
   "pygments_lexer": "ipython3",
   "version": "3.6.10"
  },
  "varInspector": {
   "cols": {
    "lenName": 16,
    "lenType": 16,
    "lenVar": 40
   },
   "kernels_config": {
    "python": {
     "delete_cmd_postfix": "",
     "delete_cmd_prefix": "del ",
     "library": "var_list.py",
     "varRefreshCmd": "print(var_dic_list())"
    },
    "r": {
     "delete_cmd_postfix": ") ",
     "delete_cmd_prefix": "rm(",
     "library": "var_list.r",
     "varRefreshCmd": "cat(var_dic_list()) "
    }
   },
   "types_to_exclude": [
    "module",
    "function",
    "builtin_function_or_method",
    "instance",
    "_Feature"
   ],
   "window_display": false
  }
 },
 "nbformat": 4,
 "nbformat_minor": 4
}
