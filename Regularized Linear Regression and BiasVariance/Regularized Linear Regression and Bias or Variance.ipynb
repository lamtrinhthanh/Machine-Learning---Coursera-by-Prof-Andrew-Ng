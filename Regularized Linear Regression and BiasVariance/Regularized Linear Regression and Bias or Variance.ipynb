{
 "cells": [
  {
   "cell_type": "markdown",
   "metadata": {},
   "source": [
    "# Regularized Linear Regression and Bias vs Variance\n"
   ]
  },
  {
   "cell_type": "markdown",
   "metadata": {},
   "source": [
    "In this exercise, we will implement regularized linear regression and use it to study models with different bias-variance properties."
   ]
  },
  {
   "cell_type": "code",
   "execution_count": 135,
   "metadata": {},
   "outputs": [],
   "source": [
    "#user for manipulating directory paths\n",
    "import os\n",
    "#array manipulation\n",
    "import numpy as np\n",
    "#series/dataframe manipulation\n",
    "import pandas as pd\n",
    "#optimization module in python\n",
    "from scipy import optimize\n",
    "#load matlab files\n",
    "from scipy.io import loadmat\n",
    "#ploting library\n",
    "from matplotlib import pyplot as plt\n",
    "\n",
    "%matplotlib inline"
   ]
  },
  {
   "cell_type": "markdown",
   "metadata": {},
   "source": [
    "## 1 Regularized Linear Regression\n",
    "\n",
    "In the first half of the exercise, you will implement regularized linear regression to predict the amount of water flowing out of a dam using the change of water level in a reservoir. In the next half, you will go through some diagnostics of debugging learning algorithms and examine the effects of bias v.s.\n",
    "variance. \n",
    "\n",
    "We will begin by visualizing the dataset containing historical records on the change in the water level, $x$, and the amount of water flowing out of the dam, $y$. This dataset is divided into three parts:\n",
    "\n",
    "- A **training** set that our model will learn on: `X`, `y`\n",
    "- A **cross validation** set for determining the regularization parameter: `Xval`, `yval`\n",
    "- A **test** set for evaluating performance. These are “unseen” examples which our model did not see during training: `Xtest`, `ytest`\n",
    "\n",
    "Run the next cell to plot the training data. In the following parts, we will implement linear regression and use that to fit a straight line to the data and plot learning curves. Following that, we will implement polynomial regression to find a better fit to the data."
   ]
  },
  {
   "cell_type": "code",
   "execution_count": 138,
   "metadata": {},
   "outputs": [
    {
     "name": "stdout",
     "output_type": "stream",
     "text": [
      "Type data loaded from matlab file:  <class 'dict'>\n",
      "Keys of dict object loaded from matlab file:  dict_keys(['__header__', '__version__', '__globals__', 'X', 'y', 'Xtest', 'ytest', 'Xval', 'yval'])\n",
      "X.shape: (12, 1), y.shape: (12, 1)\n",
      "X.shape: (21, 1), y.shape: (21, 1)\n",
      "X.shape: (21, 1), y.shape: (21, 1)\n"
     ]
    },
    {
     "data": {
      "image/png": "[encoded data removed]",
      "text/plain": [
       "<Figure size 432x288 with 1 Axes>"
      ]
     },
     "metadata": {
      "needs_background": "light"
     },
     "output_type": "display_data"
    }
   ],
   "source": [
    "#load data from the matlabfile ex5data1.mat\n",
    "data = loadmat(os.path.join('.', 'ex5data1.mat'))\n",
    "print('Type data loaded from matlab file: ', type(data))\n",
    "print('Keys of dict object loaded from matlab file: ', data.keys())\n",
    "\n",
    "#extract training, cross validation and test data from object data\n",
    "#then convert ground truth y's of 3 sets from 2-d to 1-d array\n",
    "X, y = data['X'], data['y'] #training set\n",
    "print('X.shape: %s, y.shape: %s'%(X.shape, y.shape))\n",
    "\n",
    "Xval, yval = data['Xval'], data['yval'] #valudation set\n",
    "print('X.shape: %s, y.shape: %s'%(Xval.shape, yval.shape))\n",
    "\n",
    "Xtest, ytest = data['Xtest'], data['ytest']\n",
    "print('X.shape: %s, y.shape: %s'%(Xtest.shape, ytest.shape)) #test set\n",
    "\n",
    "\n",
    "#flatten out y's \n",
    "y = y.flatten()\n",
    "yval = yval.flatten()\n",
    "ytest = ytest.flatten()\n",
    "\n",
    "#plot the training data\n",
    "plt.scatter(X, y, marker='o', c='r', edgecolors='k', s=100)\n",
    "plt.xlabel('Change in water level $(x)$', fontsize=12)\n",
    "plt.ylabel('Water flowing out of the dam $(y)$', fontsize=12);"
   ]
  },
  {
   "cell_type": "markdown",
   "metadata": {},
   "source": [
    "## 1.2 Regularize linear regression cost function"
   ]
  },
  {
   "cell_type": "markdown",
   "metadata": {},
   "source": [
    "Recall that regularized linear regression has the following cost function:\n",
    "\n",
    "$$ J(\\theta) = \\frac{1}{2m} \\left( \\sum_{i=1}^m \\left( h_\\theta\\left( x^{(i)} \\right) - y^{(i)} \\right)^2 \\right) + \\frac{\\lambda}{2m} \\left( \\sum_{j=1}^n \\theta_j^2 \\right)$$\n",
    "\n",
    "where $\\lambda$ is a regularization parameter which controls the degree of regularization (thus, help preventing overfitting). The regularization term puts a penalty on the overall cost J. As the magnitudes of the model parameters $\\theta_j$ increase, the penalty increases as well. Note that weshould not regularize\n",
    "the $\\theta_0$ term.\n",
    "\n",
    "We should now complete the code in the function `linearRegCostFunction` in the next cell. Wer task is to calculate the regularized linear regression cost function. If possible, try to vectorize our code and avoid writing loops.\n",
    "<a id=\"linearRegCostFunction\"></a>"
   ]
  },
  {
   "cell_type": "code",
   "execution_count": 139,
   "metadata": {},
   "outputs": [],
   "source": [
    "def linearRegCostFunction(theta, X, y, lambda_=0.0):\n",
    "    '''\n",
    "    Parameters\n",
    "    ----------\n",
    "    X : array_like\n",
    "        The dataset. Matrix with shape (m x n + 1) where m is the \n",
    "        total number of examples, and n is the number of features \n",
    "        before adding the bias term.\n",
    "    \n",
    "    y : array_like\n",
    "        The functions values at each datapoint. A vector of\n",
    "        shape (m, ).\n",
    "    \n",
    "    theta : array_like\n",
    "        The parameters for linear regression. A vector of shape (n+1,).\n",
    "    \n",
    "    lambda_ : float, optional\n",
    "        The regularization parameter.\n",
    "    \n",
    "    Returns\n",
    "    -------\n",
    "    J : float\n",
    "        The computed cost function. \n",
    "    \n",
    "    grad : array_like\n",
    "        The value of the cost function gradient w.r.t theta. \n",
    "        A vector of shape (n+1, ).\n",
    "    '''\n",
    "    \n",
    "    #number of training examples\n",
    "    m = y.size\n",
    "    \n",
    "    #initialize cost J\n",
    "    J = 0\n",
    "    grad = np.zeros(theta.shape)\n",
    "    \n",
    "    #add bias term to our training example\n",
    "    #X = np.c_[np.ones((m, 1)), X]\n",
    "    #cost\n",
    "    J = 1 / (2 * m) * np.sum(np.square(X.dot(theta) - y)) + lambda_ / (2 * m) * (theta[1:] @ theta[1:])\n",
    "    #gradients of cost function w.r.t theta\n",
    "    grad = (1 / m) * (X.dot(theta) - y) @ X + (lambda_ / m) * np.r_[0, theta[1:]] \n",
    "\n",
    "    return J, grad"
   ]
  },
  {
   "cell_type": "markdown",
   "metadata": {},
   "source": [
    "After having finished, we are gonna test our cost function at initialized `theta` = [1, 1].Expected cost should be 303.993 and `gradients` = [-15.303016, 598.250744]."
   ]
  },
  {
   "cell_type": "code",
   "execution_count": 140,
   "metadata": {},
   "outputs": [
    {
     "name": "stdout",
     "output_type": "stream",
     "text": [
      "Computed cost J: 303.951526\n",
      "Exptected J: 303.993\n",
      "Gradient at theta = [1, 1]:  [-15.303016, 598.167411] \n",
      " (this value should be about [-15.303016, 598.250744])\n",
      "\n"
     ]
    }
   ],
   "source": [
    "theta = np.array([1.0, 1.0])\n",
    "J, grad = linearRegCostFunction(theta, np.c_[np.ones(X.shape[0]), X], y)\n",
    "print('Computed cost J: %.6f'%(J))\n",
    "print('Exptected J: 303.993')\n",
    "print('Gradient at theta = [1, 1]:  [{:.6f}, {:.6f}] '.format(*grad))\n",
    "print(' (this value should be about [-15.303016, 598.250744])\\n')"
   ]
  },
  {
   "cell_type": "markdown",
   "metadata": {},
   "source": [
    "### Fitting linear regression model into the data"
   ]
  },
  {
   "cell_type": "markdown",
   "metadata": {},
   "source": [
    "Next, we are going to create a function that fit the linear regression model using our defined function for cost and gradient computation. We will use the optimization module from scipy library to minimize the cost."
   ]
  },
  {
   "cell_type": "code",
   "execution_count": 141,
   "metadata": {},
   "outputs": [],
   "source": [
    "def regLinearRegression(costFunction, X, y, lambda_=0.0, maxiter=200):\n",
    "    '''\n",
    "    Train linear regression model given the defined cost function, training data X, actual output y, lambda_ and number of iterations\n",
    "       Parameters\n",
    "        ----------\n",
    "        X : array_like\n",
    "            The dataset with shape (m x n).\n",
    "\n",
    "        y : array_like\n",
    "            Function values at each datapoint. A vector of shape (m,).\n",
    "\n",
    "        lambda_ : float, optional\n",
    "            The regularization parameter.\n",
    "\n",
    "        maxiter : int, optional\n",
    "            Maximum number of iteration for the optimization algorithm.\n",
    "\n",
    "        Returns\n",
    "        -------\n",
    "        J: float\n",
    "           Cost function computed after training process finishes\n",
    "        theta : array_like\n",
    "           Trained paramter array\n",
    "    '''\n",
    "\n",
    "    #m, n\n",
    "    m = y.size\n",
    "    #initialize theta\n",
    "    theta = np.zeros(X.shape[1])\n",
    "    #minimizer object that contain the result from minimization \n",
    "    minimizer = optimize.minimize(costFunction, theta, args=(X, y, lambda_), method='TNC', jac=True, options={'maxiter':maxiter})\n",
    "    \n",
    "    return minimizer.fun, minimizer.x\n",
    "    "
   ]
  },
  {
   "cell_type": "code",
   "execution_count": 142,
   "metadata": {},
   "outputs": [
    {
     "name": "stdout",
     "output_type": "stream",
     "text": [
      "Cost J:  22.373906495108905\n",
      "Theta: [13.08790351  0.36777923]\n"
     ]
    },
    {
     "data": {
      "image/png": "[encoded data removed]",
      "text/plain": [
       "<Figure size 432x288 with 1 Axes>"
      ]
     },
     "metadata": {
      "needs_background": "light"
     },
     "output_type": "display_data"
    }
   ],
   "source": [
    "#final cost function and learn parameters\n",
    "J, theta = regLinearRegression(linearRegCostFunction, np.concatenate([np.ones((X.shape[0], 1)), X], axis=1), y)\n",
    "#add bias term to X\n",
    "X_aug = np.hstack([np.ones((X.shape[0], 1)), X])\n",
    "print('Cost J: ', J)\n",
    "print('Theta:', theta)\n",
    "plt.plot(X, X_aug@theta, '--', lw=4)\n",
    "plt.plot(X, y, 'ro', mec='k', ms=10)\n",
    "plt.xlabel('Change in water level $(x)$', fontsize=12)\n",
    "plt.ylabel('Water flowing out of the dam $(y)$', fontsize=12);"
   ]
  },
  {
   "cell_type": "code",
   "execution_count": 143,
   "metadata": {},
   "outputs": [],
   "source": [
    "#fit the model using sklearn.Linear Regression"
   ]
  },
  {
   "cell_type": "code",
   "execution_count": 144,
   "metadata": {},
   "outputs": [
    {
     "name": "stdout",
     "output_type": "stream",
     "text": [
      "Learned parameters: 13.08790351086908 0.3677792297456508\n",
      "Mean square error: 44.74781299021783\n"
     ]
    }
   ],
   "source": [
    "from sklearn.linear_model import LinearRegression\n",
    "from sklearn.metrics import mean_squared_error\n",
    "linreg = LinearRegression()\n",
    "linreg.fit(X, y)\n",
    "print('Learned parameters:', linreg.intercept_, linreg.coef_.squeeze())\n",
    "print('Mean square error:', mean_squared_error(y, linreg.predict(X)))"
   ]
  },
  {
   "cell_type": "markdown",
   "metadata": {},
   "source": [
    "# 2 Bias - Variance"
   ]
  },
  {
   "cell_type": "markdown",
   "metadata": {},
   "source": [
    "Bias - Variance tradeoff is an important concept in Machine Learning. Models with high bias will fail to learn from the data, so face underfitting. Not only that, models with high varaince will fail to generaize to new data, thus facing overfitting."
   ]
  },
  {
   "cell_type": "markdown",
   "metadata": {},
   "source": [
    "## 2.1 Learning Curve"
   ]
  },
  {
   "cell_type": "markdown",
   "metadata": {},
   "source": [
    "We will now implement code to generate the learning curves that will be useful in debugging learning algorithms. Recall that a learning curve plots training and cross validation error as a function of training set size. Wer job is to fill in the function `learningCurve` in the next cell, so that it returns a vector of errors for the training set and cross validation set.\n"
   ]
  },
  {
   "cell_type": "code",
   "execution_count": 228,
   "metadata": {},
   "outputs": [],
   "source": [
    "def learningCurve(X, y, Xval, yval, lambda_=0.0):\n",
    "    \"\"\"\n",
    "    Generates the train and cross validation set errors needed to plot a learning curve\n",
    "    returns the train and cross validation set errors for a learning curve. \n",
    "    \n",
    "    In this function, you will compute the train and test errors for\n",
    "    dataset sizes from 1 up to m. In practice, when working with larger\n",
    "    datasets, you might want to do this in larger intervals.\n",
    "    \n",
    "    Parameters\n",
    "    ----------\n",
    "    X : array_like\n",
    "        The training dataset. Matrix with shape (m x n + 1) where m is the \n",
    "        total number of examples, and n is the number of features \n",
    "        before adding the bias term.\n",
    "    \n",
    "    y : array_like\n",
    "        The functions values at each training datapoint. A vector of\n",
    "        shape (m, ).\n",
    "    \n",
    "    Xval : array_like\n",
    "        The validation dataset. Matrix with shape (m_val x n + 1) where m is the \n",
    "        total number of examples, and n is the number of features \n",
    "        before adding the bias term.\n",
    "    \n",
    "    yval : array_like\n",
    "        The functions values at each validation datapoint. A vector of\n",
    "        shape (m_val, ).\n",
    "    \n",
    "    lambda_ : float, optional\n",
    "        The regularization parameter.\n",
    "    \n",
    "    Returns\n",
    "    -------\n",
    "    error_train : array_like\n",
    "        A vector of shape m. error_train[i] contains the training error for\n",
    "        i examples.\n",
    "    error_val : array_like\n",
    "        A vecotr of shape m. error_val[i] contains the validation error for\n",
    "        i training examples.\n",
    "\n",
    "    \"\"\"\n",
    "    \n",
    "    #number of training examples\n",
    "    m = y.size\n",
    "    #arrays of training and validation errors\n",
    "    error_train = np.zeros(m)\n",
    "    error_val = np.zeros(m)\n",
    "    \n",
    "    #iterate over i from 1-m examples to fit the model then calculate the training/validation errors on i example\n",
    "    for i in range(m):\n",
    "        theta = regLinearRegression(linearRegCostFunction, X[:i+1, :], y[:i+1], lambda_=lambda_)[1]\n",
    "        error_train[i] = linearRegCostFunction(theta, X[:i+1, :], y[:i+1], lambda_=0.0)[0]\n",
    "        error_val[i] = linearRegCostFunction(theta, Xval, yval, lambda_=0.0)[0]\n",
    "    return error_train, error_val"
   ]
  },
  {
   "cell_type": "code",
   "execution_count": 146,
   "metadata": {},
   "outputs": [
    {
     "name": "stdout",
     "output_type": "stream",
     "text": [
      "# Training Examples\tTrain Error\tCross Validation Error\n",
      "  \t1\t\t0.000000\t205.121096\n",
      "  \t2\t\t0.000000\t110.302641\n",
      "  \t3\t\t3.286595\t45.010231\n",
      "  \t4\t\t2.842678\t48.368910\n",
      "  \t5\t\t13.154049\t35.865165\n",
      "  \t6\t\t19.443963\t33.829961\n",
      "  \t7\t\t20.098522\t31.970986\n",
      "  \t8\t\t18.172859\t30.862446\n",
      "  \t9\t\t22.609405\t31.135998\n",
      "  \t10\t\t23.261462\t28.936207\n",
      "  \t11\t\t24.317250\t29.551432\n",
      "  \t12\t\t22.373906\t29.433818\n"
     ]
    },
    {
     "data": {
      "image/png": "[encoded data removed]",
      "text/plain": [
       "<Figure size 432x288 with 1 Axes>"
      ]
     },
     "metadata": {},
     "output_type": "display_data"
    }
   ],
   "source": [
    "m = y.size\n",
    "X_aug = np.concatenate([np.ones((m, 1)), X], axis=1)\n",
    "Xval_aug = np.concatenate([np.ones((yval.size, 1)), Xval], axis=1)\n",
    "error_train, error_val = learningCurve(X_aug, y, Xval_aug, yval, lambda_=0)\n",
    "\n",
    "plt.style.use('ggplot')\n",
    "plt.plot(np.arange(1, m+1), error_train, np.arange(1, m+1), error_val, lw=2)\n",
    "# plt.plot(np.arange(1, m+1), error_train, np.arange(1, m+1), error_val, lw=2)\n",
    "plt.title('Learning curve for linear regression')\n",
    "plt.legend(['Train', 'Cross Validation'])\n",
    "plt.xlabel('Number of training examples')\n",
    "plt.ylabel('Error')\n",
    "plt.axis([0, 13, 0, 150])\n",
    "\n",
    "\n",
    "print('# Training Examples\\tTrain Error\\tCross Validation Error')\n",
    "for i in range(m):\n",
    "    print('  \\t%d\\t\\t%f\\t%f' % (i+1, error_train[i], error_val[i]))"
   ]
  },
  {
   "cell_type": "markdown",
   "metadata": {},
   "source": [
    "# 3 Polynomial regression\n",
    "\n",
    "The problem with our linear model was that it was too simple for the data\n",
    "and resulted in underfitting (high bias). In this part of the exercise, you will address this problem by adding more features. For polynomial regression, our hypothesis has the form:\n",
    "\n",
    "$$\n",
    "\\begin{align}\n",
    "h_\\theta(x)  &= \\theta_0 + \\theta_1 \\times (\\text{waterLevel}) + \\theta_2 \\times (\\text{waterLevel})^2 + \\cdots + \\theta_p \\times (\\text{waterLevel})^p \\\\\n",
    "& = \\theta_0 + \\theta_1 x_1 + \\theta_2 x_2 + \\cdots + \\theta_p x_p\n",
    "\\end{align}\n",
    "$$\n",
    "\n",
    "Notice that by defining $x_1 = (\\text{waterLevel})$, $x_2 = (\\text{waterLevel})^2$ , $\\cdots$, $x_p =\n",
    "(\\text{waterLevel})^p$, we obtain a linear regression model where the features are the various powers of the original value (waterLevel).\n",
    "\n",
    "Next, we are going to add more polynomial to our models for the purpose of increased complexity. This could be done through completion of the function `polyFeatures` in the next cell. The function is supposed to match the original training set $X$ of size $m$ to its higher powers. The expected output will be X of dimension $mxp$. We do not need to account for the 0-th power of this function."
   ]
  },
  {
   "cell_type": "code",
   "execution_count": 147,
   "metadata": {},
   "outputs": [],
   "source": [
    "#function to standardize the features input X, so that the mean value in each feature is 0 and the standard deviation is 1\n",
    "def featureNormalize(X):\n",
    "    \"\"\"\n",
    "    Normalizes the features in X returns a normalized version of X where the mean value of each\n",
    "    feature is 0 and the standard deviation is 1. This is often a good preprocessing step to do when\n",
    "    working with learning algorithms.\n",
    "\n",
    "    Parameters\n",
    "    ----------\n",
    "    X : array_like\n",
    "        An dataset which is a (m x n) matrix, where m is the number of examples,\n",
    "        and n is the number of dimensions for each example.\n",
    "\n",
    "    Returns\n",
    "    -------\n",
    "    X_norm : array_like\n",
    "        The normalized input dataset.\n",
    "\n",
    "    mu : array_like\n",
    "        A vector of size n corresponding to the mean for each dimension across all examples.\n",
    "\n",
    "    sigma : array_like\n",
    "        A vector of size n corresponding to the standard deviations for each dimension across\n",
    "        all examples.\n",
    "    \"\"\"\n",
    "    #mean of X's features\n",
    "    mu = np.mean(X, axis=0)\n",
    "    #standard deviation of X's features\n",
    "    sigma = np.std(X, axis=0, ddof=1)\n",
    "    \n",
    "    return (X - mu) / sigma, mu, sigma"
   ]
  },
  {
   "cell_type": "code",
   "execution_count": 148,
   "metadata": {},
   "outputs": [],
   "source": [
    "def polyFeatures(X, p):\n",
    "    \"\"\"\n",
    "    Maps X (1D vector) into the p-th power.\n",
    "    \n",
    "    Parameters\n",
    "    ----------\n",
    "    X : array_like\n",
    "        A data vector of size m, where m is the number of examples.\n",
    "    \n",
    "    p : int\n",
    "        The polynomial power to map the features. \n",
    "    \n",
    "    Returns \n",
    "    -------\n",
    "    X_poly : array_like\n",
    "        A matrix of shape (m x p) where p is the polynomial \n",
    "        power and m is the number of examples. That is:\n",
    "    \n",
    "        X_poly[i, :] = [X[i], X[i]**2, X[i]**3 ...  X[i]**p]\n",
    "    \"\"\"\n",
    "    X_poly = np.zeros((X.shape[0], p))\n",
    "    for i in range(p):\n",
    "        X_poly[:, i] = X[:, 0] ** (i + 1)\n",
    "\n",
    "    return X_poly"
   ]
  },
  {
   "cell_type": "code",
   "execution_count": 23,
   "metadata": {},
   "outputs": [
    {
     "name": "stdout",
     "output_type": "stream",
     "text": [
      "Normalized Training Example 1:\n"
     ]
    },
    {
     "data": {
      "text/plain": [
       "array([ 1.        , -0.36214078, -0.75508669,  0.18222588, -0.70618991,\n",
       "        0.30661792, -0.59087767,  0.3445158 , -0.50848117])"
      ]
     },
     "execution_count": 23,
     "metadata": {},
     "output_type": "execute_result"
    }
   ],
   "source": [
    "p = 8\n",
    "\n",
    "# Map X onto Polynomial Features and Normalize\n",
    "X_poly = polyFeatures(X, p)\n",
    "X_poly, mu, sigma = featureNormalize(X_poly)\n",
    "X_poly = np.concatenate([np.ones((m, 1)), X_poly], axis=1)\n",
    "\n",
    "# Map X_poly_test and normalize (using mu and sigma)\n",
    "X_poly_test = polyFeatures(Xtest, p)\n",
    "X_poly_test -= mu\n",
    "X_poly_test /= sigma\n",
    "X_poly_test = np.concatenate([np.ones((ytest.size, 1)), X_poly_test], axis=1)\n",
    "\n",
    "# Map X_poly_val and normalize (using mu and sigma)\n",
    "X_poly_val = polyFeatures(Xval, p)\n",
    "X_poly_val -= mu\n",
    "X_poly_val /= sigma\n",
    "X_poly_val = np.concatenate([np.ones((yval.size, 1)), X_poly_val], axis=1)\n",
    "\n",
    "print('Normalized Training Example 1:')\n",
    "X_poly[0, :]"
   ]
  },
  {
   "cell_type": "code",
   "execution_count": 24,
   "metadata": {},
   "outputs": [
    {
     "data": {
      "text/plain": [
       "(12, 8)"
      ]
     },
     "execution_count": 24,
     "metadata": {},
     "output_type": "execute_result"
    }
   ],
   "source": [
    "#polynomial features using sklearn\n",
    "from sklearn.preprocessing import PolynomialFeatures\n",
    "poly = PolynomialFeatures(degree=8, include_bias=False)\n",
    "X_poly = poly.fit_transform(X)\n",
    "X_poly.shape"
   ]
  },
  {
   "cell_type": "markdown",
   "metadata": {},
   "source": [
    "# 3.1 Learning Polynomial Regression\n"
   ]
  },
  {
   "cell_type": "markdown",
   "metadata": {},
   "source": [
    "After having completed `polyFeatures`, we are moving onto training polynomial regression using the already-trained linear regression cost function for cost and gradients.\n",
    "\n",
    "Due to the use of a polynomial function of degree 8, we need to preprocess the data by feature normalization due to different value range between our features, for example, (e.g., an example with $x = 40$ will now have a feature $x_8 = 40^8 = 6.5 \\times 10^{12}$).\n"
   ]
  },
  {
   "cell_type": "code",
   "execution_count": 59,
   "metadata": {},
   "outputs": [
    {
     "data": {
      "text/plain": [
       "array([0.00000000e+00, 1.05358764e+01, 4.00692476e-01, 6.55122929e-03,\n",
       "       1.81970403e-04, 3.36069737e-06, 8.19268269e-08, 1.59497667e-09,\n",
       "       3.63334197e-11])"
      ]
     },
     "execution_count": 59,
     "metadata": {},
     "output_type": "execute_result"
    }
   ],
   "source": [
    "linreg.coef_"
   ]
  },
  {
   "cell_type": "code",
   "execution_count": 117,
   "metadata": {},
   "outputs": [],
   "source": [
    "regLinearRegression??"
   ]
  },
  {
   "cell_type": "code",
   "execution_count": 234,
   "metadata": {},
   "outputs": [
    {
     "name": "stdout",
     "output_type": "stream",
     "text": [
      "Number of Example\t\tTraining Error\t\tValidation Error\n",
      "\t1\t\t\t0.000\t\t\t138.847\n",
      "\t2\t\t\t0.043\t\t\t143.433\n",
      "\t3\t\t\t2.515\t\t\t6.945\n",
      "\t4\t\t\t1.286\t\t\t6.459\n",
      "\t5\t\t\t1.028\t\t\t6.473\n",
      "\t6\t\t\t0.795\t\t\t8.498\n",
      "\t7\t\t\t1.410\t\t\t5.792\n",
      "\t8\t\t\t1.316\t\t\t5.492\n",
      "\t9\t\t\t1.459\t\t\t6.430\n",
      "\t10\t\t\t1.353\t\t\t6.145\n",
      "\t11\t\t\t1.229\t\t\t6.206\n",
      "\t12\t\t\t1.959\t\t\t4.557\n"
     ]
    },
    {
     "data": {
      "image/png": "[encoded data removed]",
      "text/plain": [
       "<Figure size 640x480 with 1 Axes>"
      ]
     },
     "metadata": {},
     "output_type": "display_data"
    },
    {
     "data": {
      "image/png": "[encoded data removed]",
      "text/plain": [
       "<Figure size 640x480 with 1 Axes>"
      ]
     },
     "metadata": {},
     "output_type": "display_data"
    }
   ],
   "source": [
    "from sklearn.preprocessing import StandardScaler\n",
    "p = 8\n",
    "lambda_ = 1.0\n",
    "#add polynomial features/terms for an 8th degree polynomial function\n",
    "poly = PolynomialFeatures(degree=8, include_bias=False)\n",
    "X_poly = poly.fit_transform(X)\n",
    "# mu = np.mean(X_poly, axis=0) #mean of each feature\n",
    "# sigma = np.std(X_poly, axis=0) #standard deviation of each feature\n",
    "# X_poly = (X_poly - mu) / sigma #standardize the data before feeding into the polynomial function\n",
    "standardizer = StandardScaler()\n",
    "X_poly = standardizer.fit_transform(X_poly)\n",
    "X_poly = np.concatenate([np.ones((X_poly.shape[0], 1)), X_poly], axis=1)\n",
    "\n",
    "#learn parameter after preprocessing data\n",
    "theta = regLinearRegression(linearRegCostFunction, X_poly, y, lambda_)[1]\n",
    "#fit the 8-th degree polynomial model into the training for learning of parameter theta in minimization of cost\n",
    "from sklearn.linear_model import Ridge\n",
    "ridge = Ridge(alpha=1)\n",
    "ridge.fit(X_poly[:, 1:], y)\n",
    "#plot data\n",
    "plt.style.use('default')\n",
    "plt.plot(X, y, 'ro', ms=10, mec='k', mew=2)\n",
    "x_min, x_max = X.min(), X.max()\n",
    "plt.ylim([y.min()-15, y.max()+15])\n",
    "x = np.arange(x_min - 15, x_max + 25, 0.05).reshape(-1, 1) #create a range of data points to plot the 8-th degree polynomial fit\n",
    "x_poly = poly.fit_transform(x.reshape((-1, 1)))\n",
    "# x_poly = (x_poly - mu) / sigma\n",
    "x_poly = standardizer.transform(x_poly)\n",
    "x_poly = np.concatenate([np.ones((x_poly.shape[0], 1)), x_poly], axis=1)\n",
    "plt.plot(x, x_poly @ np.hstack([ridge.intercept_, ridge.coef_]))\n",
    "plt.plot(x, x_poly @ theta, '--')\n",
    "plt.xlabel('Change in water level (x)')\n",
    "plt.ylabel('Water flowing out of the dam (y)')\n",
    "plt.title('Polynomial Regression Fit (lambda = %f)' % lambda_);\n",
    "\n",
    "\n",
    "#plot training + val error\n",
    "X_poly_val = poly.fit_transform(Xval) #add poly terms to validation set up to 8 order\n",
    "X_poly_val = StandardScaler().fit_transform(X_poly_val)\n",
    "X_poly_val = np.concatenate([np.ones((X_poly_val.shape[0], 1)), X_poly_val], axis=1)\n",
    "\n",
    "error_train, error_val = learningCurve(X_poly, y, X_poly_val, yval, lambda_=1)\n",
    "print('Number of Example\\t\\tTraining Error\\t\\tValidation Error')\n",
    "for i in range(len(error_train)):\n",
    "    print('\\t%d\\t\\t\\t%.3f\\t\\t\\t%.3f'%(i+1, error_train[i], error_val[i]))\n",
    "plt.figure()\n",
    "plt.plot(range(1, m+1), error_train, label='Training Error')\n",
    "plt.plot(range(1, m+1), error_val, label='Validation Error')\n",
    "plt.legend(loc='upper right')\n",
    "plt.xlabel('$Number$ $of$ $examples$')\n",
    "plt.ylabel('$Error$')\n",
    "plt.axis([0, 13, np.min([error_train, error_val]), np.max([error_train, error_val])+20]);"
   ]
  },
  {
   "cell_type": "markdown",
   "metadata": {},
   "source": [
    "Based on the plot of our polynomial fit togerther with the plot of the learning curve for number of examples, we can see that our model suffers from overfitting, meaning the training error stays unchanged at 0 over all the number of examples. However, the validation error is very high and unstable with fluctiations. This is an indicator for the problem of overfitting. "
   ]
  },
  {
   "cell_type": "markdown",
   "metadata": {},
   "source": [
    "One of the technique to reduce overfitting is to use L1 or L2 regularization by adding an regularization term with parameter Lambda. This is expected for a good effect on bias-variance tradeoffs of our our model. \n",
    "\n",
    "We are, therefore, applying an automated method to select the optimum $\\lambda$ value given a set of values. More concretely, we will fit the polynomial function to the training data for learn parameters. After that, cross-validation set is used to evaluate the good value of regularization parameter $\\lambda$. Finally, test set is used for evaluation of generalization on data by our model or saying, how well our model could work with actual unseen data."
   ]
  },
  {
   "cell_type": "code",
   "execution_count": 242,
   "metadata": {},
   "outputs": [],
   "source": [
    "def validationCurve(X, y, Xval, yval, lambda_vec=[0, 0.001, 0.003, 0.01, 0.03, 0.1, 0.3, 1, 3, 10]):\n",
    "    \"\"\"\n",
    "    Generate the train and validation errors needed to plot a validation\n",
    "    curve that we can use to select lambda_.\n",
    "    \n",
    "    Parameters\n",
    "    ----------\n",
    "    X : array_like\n",
    "        The training dataset. Matrix with shape (m x n) where m is the \n",
    "        total number of training examples, and n is the number of features \n",
    "        including any polynomial features.\n",
    "    \n",
    "    y : array_like\n",
    "        The functions values at each training datapoint. A vector of\n",
    "        shape (m, ).\n",
    "    \n",
    "    Xval : array_like\n",
    "        The validation dataset. Matrix with shape (m_val x n) where m is the \n",
    "        total number of validation examples, and n is the number of features \n",
    "        including any polynomial features.\n",
    "    \n",
    "    yval : array_like\n",
    "        The functions values at each validation datapoint. A vector of\n",
    "        shape (m_val, ).\n",
    "    \n",
    "    Returns\n",
    "    -------\n",
    "    lambda_vec : list\n",
    "        The values of the regularization parameters which were used in \n",
    "        cross validation.\n",
    "    \n",
    "    error_train : list\n",
    "        The training error computed at each value for the regularization\n",
    "        parameter.\n",
    "    \n",
    "    error_val : list\n",
    "        The validation error computed at each value for the regularization\n",
    "        parameter.\n",
    "    \n",
    "    \"\"\"\n",
    "    error_train = []\n",
    "    error_val = []\n",
    "    \n",
    "    for i in lambda_vec:\n",
    "        theta = regLinearRegression(linearRegCostFunction, X, y,lambda_=i, maxiter=55)[1]\n",
    "        error_train.append(linearRegCostFunction(theta, X, y, lambda_=0.0)[0])\n",
    "        error_val.append(linearRegCostFunction(theta, Xval, yval, lambda_=0.0)[0])\n",
    "        \n",
    "    return error_train, error_val"
   ]
  },
  {
   "cell_type": "markdown",
   "metadata": {},
   "source": [
    "After having completed the function above, we are going to make a plot between the given values of lambda against the training and validation error. This method is supposed to help us choose the best lambda value for \"just-right\" trade-off between variance and bias."
   ]
  },
  {
   "cell_type": "code",
   "execution_count": 243,
   "metadata": {},
   "outputs": [
    {
     "data": {
      "text/plain": [
       "(12, 9)"
      ]
     },
     "execution_count": 243,
     "metadata": {},
     "output_type": "execute_result"
    }
   ],
   "source": [
    "X_poly.shape"
   ]
  },
  {
   "cell_type": "code",
   "execution_count": 259,
   "metadata": {},
   "outputs": [
    {
     "name": "stdout",
     "output_type": "stream",
     "text": [
      "Lambda\t\tTraining Error\t\tValidation Error\n",
      "0.000000\t0.068101\t\t7.876899\n",
      "0.001000\t0.112736\t\t10.629805\n",
      "0.003000\t0.180522\t\t17.386559\n",
      "0.010000\t0.218195\t\t15.379753\n",
      "0.030000\t0.274574\t\t12.257079\n",
      "0.100000\t0.438653\t\t8.149981\n",
      "0.300000\t0.868144\t\t5.378058\n",
      "1.000000\t1.958691\t\t4.556537\n",
      "3.000000\t4.525119\t\t4.998845\n",
      "10.000000\t14.825808\t\t12.436982\n"
     ]
    },
    {
     "data": {
      "image/png": "[encoded data removed]",
      "text/plain": [
       "<Figure size 640x480 with 1 Axes>"
      ]
     },
     "metadata": {},
     "output_type": "display_data"
    }
   ],
   "source": [
    "#test the function\n",
    "lambda_vec = [0, 0.001, 0.003, 0.01, 0.03, 0.1, 0.3, 1, 3, 10]\n",
    "error_train, error_val = validationCurve(X_poly, y, X_poly_val, yval, lambda_vec=lambda_vec)\n",
    "plt.plot(lambda_vec, error_train, '-o',   lambda_vec, error_val, '-o')\n",
    "plt.legend(['Train', 'Cross Validation'])\n",
    "plt.xlabel('lambda')\n",
    "plt.ylabel('Error')\n",
    "print('Lambda\\t\\tTraining Error\\t\\tValidation Error')\n",
    "for i in range(len(lambda_vec)):\n",
    "    print('%f\\t%f\\t\\t%f'%(lambda_vec[i], error_train[i], error_val[i]))"
   ]
  },
  {
   "cell_type": "code",
   "execution_count": null,
   "metadata": {},
   "outputs": [],
   "source": []
  }
 ],
 "metadata": {
  "kernelspec": {
   "display_name": "Python 3",
   "language": "python",
   "name": "python3"
  },
  "language_info": {
   "codemirror_mode": {
    "name": "ipython",
    "version": 3
   },
   "file_extension": ".py",
   "mimetype": "text/x-python",
   "name": "python",
   "nbconvert_exporter": "python",
   "pygments_lexer": "ipython3",
   "version": "3.6.10"
  },
  "varInspector": {
   "cols": {
    "lenName": 16,
    "lenType": 16,
    "lenVar": 40
   },
   "kernels_config": {
    "python": {
     "delete_cmd_postfix": "",
     "delete_cmd_prefix": "del ",
     "library": "var_list.py",
     "varRefreshCmd": "print(var_dic_list())"
    },
    "r": {
     "delete_cmd_postfix": ") ",
     "delete_cmd_prefix": "rm(",
     "library": "var_list.r",
     "varRefreshCmd": "cat(var_dic_list()) "
    }
   },
   "types_to_exclude": [
    "module",
    "function",
    "builtin_function_or_method",
    "instance",
    "_Feature"
   ],
   "window_display": false
  }
 },
 "nbformat": 4,
 "nbformat_minor": 4
}
